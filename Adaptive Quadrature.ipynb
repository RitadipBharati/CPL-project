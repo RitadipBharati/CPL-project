{
 "cells": [
  {
   "cell_type": "code",
   "execution_count": 1,
   "metadata": {},
   "outputs": [],
   "source": [
    "def INT_MID(func,a,b,N=100000):\n",
    "    h=(b-a)/N\n",
    "    x_a=a\n",
    "    x_b=a+h\n",
    "    r=0\n",
    "    for i in range(N):\n",
    "        x=(x_a+x_b)/2\n",
    "        r+=(h*func(x))\n",
    "        x_a=x_a+h\n",
    "        x_b=x_b+h\n",
    "    return(r)"
   ]
  },
  {
   "cell_type": "code",
   "execution_count": 2,
   "metadata": {},
   "outputs": [],
   "source": [
    "def Adaptive_MID(func,a,b,tol,iter_lim=1000):\n",
    "    stack=[]\n",
    "    stack.append(a)\n",
    "    stack.append(b)\n",
    "    I=0\n",
    "    Iter=0\n",
    "    while len(stack)!=0:\n",
    "        bb=stack.pop()\n",
    "        aa=stack.pop()\n",
    "        I1=INT_MID(func,aa,bb,8)\n",
    "        m=(aa+bb)/2\n",
    "        I2=INT_MID(func,aa,m,8)+INT_MID(func,m,bb,8)\n",
    "        Iter+=1\n",
    "        if abs(I1-I2)/15<(bb-aa)*tol:\n",
    "            I+=I2\n",
    "        else:\n",
    "            stack.append(m)\n",
    "            stack.append(bb)\n",
    "            stack.append(aa)\n",
    "            stack.append(m)\n",
    "        if Iter>iter_lim:\n",
    "            print(str(iter_lim)+\" iteration reached\")\n",
    "            break\n",
    "    print(\"It took \"+str(Iter)+\" iteration.\")\n",
    "    return(I)"
   ]
  },
  {
   "cell_type": "code",
   "execution_count": 3,
   "metadata": {},
   "outputs": [],
   "source": [
    "def INT_TRAP(func,a,b,N=100000):\n",
    "    h=(b-a)/N\n",
    "    x_a=a\n",
    "    x_b=a+h\n",
    "    r=0\n",
    "    for i in range(N):\n",
    "        f_a=func(x_a)\n",
    "        f_b=func(x_b)\n",
    "        r+=h*(f_a+f_b)/2\n",
    "        x_a=x_a+h\n",
    "        x_b=x_b+h\n",
    "    return(r)"
   ]
  },
  {
   "cell_type": "code",
   "execution_count": 4,
   "metadata": {},
   "outputs": [],
   "source": [
    "def Adaptive_Trap(func,a,b,tol,iter_lim=1000):\n",
    "    stack=[]\n",
    "    stack.append(a)\n",
    "    stack.append(b)\n",
    "    I=0\n",
    "    Iter=0\n",
    "    while len(stack)!=0:\n",
    "        bb=stack.pop()\n",
    "        aa=stack.pop()\n",
    "        I1=INT_TRAP(func,aa,bb,8)\n",
    "        m=(aa+bb)/2\n",
    "        I2=INT_TRAP(func,aa,m,8)+INT_TRAP(func,m,bb,8)\n",
    "        Iter+=1\n",
    "        if abs(I1-I2)/15<(bb-aa)*tol:\n",
    "            I+=I2\n",
    "        else:\n",
    "            stack.append(m)\n",
    "            stack.append(bb)\n",
    "            stack.append(aa)\n",
    "            stack.append(m)\n",
    "        if Iter>iter_lim:\n",
    "            print(str(iter_lim)+\" iteration reached\")\n",
    "            break\n",
    "    print(\"It took \"+str(Iter)+\" iteration.\")\n",
    "    return(I)"
   ]
  },
  {
   "cell_type": "code",
   "execution_count": 5,
   "metadata": {},
   "outputs": [],
   "source": [
    "def INT_SIMP(func,a,b,N=100000):\n",
    "    h=(b-a)/N\n",
    "    x_a=a\n",
    "    x_b=a+2*h\n",
    "    r=0\n",
    "    for i in range(int(N/2)):\n",
    "        x_c=(x_a+x_b)/2\n",
    "        f_a=func(x_a)\n",
    "        f_b=func(x_b)\n",
    "        f_c=func(x_c)\n",
    "        r+=h*(f_a+4*f_c+f_b)/3\n",
    "        x_a=x_a+2*h\n",
    "        x_b=x_b+2*h\n",
    "    return(r)"
   ]
  },
  {
   "cell_type": "code",
   "execution_count": 6,
   "metadata": {},
   "outputs": [],
   "source": [
    "def Adaptive_Simpson(func,a,b,tol,Iter_limit=1000):\n",
    "    stack=[]\n",
    "    stack.append(a)\n",
    "    stack.append(b)\n",
    "    I=0\n",
    "    Iter=0\n",
    "    while len(stack)!=0:\n",
    "        bb=stack.pop()\n",
    "        aa=stack.pop()\n",
    "        I1=INT_SIMP(func,aa,bb,4)\n",
    "        m=(aa+bb)/2\n",
    "        I2=INT_SIMP(func,aa,m,4)+INT_SIMP(func,m,bb,4)\n",
    "        Iter+=1\n",
    "        if abs(I1-I2)/15<(bb-aa)*tol:\n",
    "            I+=I2\n",
    "        else:\n",
    "            stack.append(m)\n",
    "            stack.append(bb)\n",
    "            stack.append(aa)\n",
    "            stack.append(m)\n",
    "        if Iter>Iter_limit:\n",
    "            print(str(Iter_limit)+\" iteration reached\")\n",
    "            break\n",
    "    print(\"It took \"+str(Iter)+\" iteration.\")\n",
    "    return(I)\n",
    "            "
   ]
  },
  {
   "cell_type": "code",
   "execution_count": 7,
   "metadata": {},
   "outputs": [
    {
     "name": "stdout",
     "output_type": "stream",
     "text": [
      "22.954788427168403\n",
      "It took 3649 iteration.\n",
      "22.954792848503683\n"
     ]
    }
   ],
   "source": [
    "import math\n",
    "def ProbFunc(x):\n",
    "    return(1.9*math.cos((1.7*x**3)-0.3)-0.4*x**2+1.5*x+3.9)\n",
    "print(INT_MID(ProbFunc,0,5,10000))\n",
    "print(Adaptive_MID(ProbFunc,0,5,10**-6,10000))"
   ]
  },
  {
   "cell_type": "code",
   "execution_count": 8,
   "metadata": {},
   "outputs": [
    {
     "name": "stdout",
     "output_type": "stream",
     "text": [
      "22.95528554423461\n",
      "It took 485 iteration.\n",
      "22.954592003256842\n"
     ]
    }
   ],
   "source": [
    "print(INT_TRAP(ProbFunc,0,5,1000))\n",
    "print(Adaptive_Trap(ProbFunc,0,5,10**-4))"
   ]
  },
  {
   "cell_type": "code",
   "execution_count": 9,
   "metadata": {},
   "outputs": [
    {
     "name": "stdout",
     "output_type": "stream",
     "text": [
      "22.94949978251816\n",
      "It took 667 iteration.\n",
      "22.954790934972888\n"
     ]
    }
   ],
   "source": [
    "print(INT_SIMP(ProbFunc,0,5,1045))\n",
    "print(Adaptive_Simpson(ProbFunc,0,5,10**-6))"
   ]
  },
  {
   "cell_type": "code",
   "execution_count": null,
   "metadata": {},
   "outputs": [],
   "source": []
  }
 ],
 "metadata": {
  "kernelspec": {
   "display_name": "Python 3",
   "language": "python",
   "name": "python3"
  },
  "language_info": {
   "codemirror_mode": {
    "name": "ipython",
    "version": 3
   },
   "file_extension": ".py",
   "mimetype": "text/x-python",
   "name": "python",
   "nbconvert_exporter": "python",
   "pygments_lexer": "ipython3",
   "version": "3.7.6"
  }
 },
 "nbformat": 4,
 "nbformat_minor": 4
}
